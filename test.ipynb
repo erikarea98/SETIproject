{
 "cells": [
  {
   "cell_type": "code",
   "execution_count": 1,
   "metadata": {},
   "outputs": [],
   "source": [
    "# Python standard library\n",
    "import os\n",
    "import glob\n",
    "\n",
    "# 3rd party packages\n",
    "import pylab as plt\n",
    "from blimpy import Waterfall\n",
    "import turbo_seti.find_doppler.seti_event as turbo\n",
    "import turbo_seti.find_event as find\n",
    "from turbo_seti.find_doppler.find_doppler import FindDoppler\n",
    "from turbo_seti.find_event.find_event_pipeline import find_event_pipeline\n",
    "from turbo_seti.find_event.plot_event_pipeline import plot_event_pipeline\n",
    "\n",
    "# Local imports\n",
    "#import download_progress\n",
    "\n",
    "%matplotlib inline"
   ]
  }
 ],
 "metadata": {
  "kernelspec": {
   "display_name": "base",
   "language": "python",
   "name": "python3"
  },
  "language_info": {
   "codemirror_mode": {
    "name": "ipython",
    "version": 3
   },
   "file_extension": ".py",
   "mimetype": "text/x-python",
   "name": "python",
   "nbconvert_exporter": "python",
   "pygments_lexer": "ipython3",
   "version": "3.7.6"
  },
  "orig_nbformat": 4
 },
 "nbformat": 4,
 "nbformat_minor": 2
}
